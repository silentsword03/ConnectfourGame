{
 "cells": [
  {
   "cell_type": "markdown",
   "metadata": {},
   "source": [
    "# Candidate Test\n",
    "\n",
    "Connect Four is a two-player connection board game in which players take turns and place a colored disc into a playing field consisting of typically 6 rows and 7 colums. The game is not flat on a table but standing upright. **The disc falls down to the lowest row within a column where there was still an empty place.**\n",
    "\n",
    "![Connect Four](https://upload.wikimedia.org/wikipedia/commons/a/ad/Connect_Four.gif)\n",
    "\n",
    "## Your tasks are\n",
    "\n",
    "1. Write an algorithm that checks the winning condition for the given board states.\n",
    "2. Write a function that creates a valid random move for a given player. Think about gravity!\n",
    "3. Plays 5 random matches with two computer players and reports back the final board state.\n",
    "\n",
    "**Phase 1 - Timeboxed: Time limit: 1 hour**\n",
    "\n",
    "**Phase 2 - Finishing touches: No strict time limit (i.e. couple of hours)**\n",
    "\n",
    "## Solution\n",
    "The workable solution has to be an export of the Jupyter notebook. Please make sure that the code works when starting with a fresh Python Kernel and selecting *Run All*. Please submit your solution via e-mail and add your name to the filename.\n",
    "\n",
    "\n",
    "## Hints\n",
    "* You may lookup part of the code but please be aware that the time limit may not allow a proper integration. Please cite your sources.\n",
    "* Have a look at your solution and make sure that the given output actually shows a working solution in action.\n",
    "* Is the game realy random? Or are the moves always the same? The random function might need initialization.\n",
    "\n",
    "## Grading\n",
    "* The focus is on the output of 5 random games. It may differ from the given examples.\n",
    "* When it is your own code, we grade also on partial solutions.\n",
    "* Writing Pythonic code is a plus.\n",
    "* Applying developer best practices is a plus.\n",
    "* Writing some documentation and about your thoughts is a plus.\n",
    "* Simple solutions are valid to pass the challenge.\n",
    "* Sophisticated algorithms are a plus.\n",
    "* Implementing an \"AI\" that tries to win is a plus.\n",
    "\n",
    "## Next steps\n",
    "Usually we will give you feedback and information about the next steps on the next business day.\n"
   ]
  },
  {
   "cell_type": "code",
   "execution_count": 4,
   "metadata": {},
   "outputs": [
    {
     "name": "stdout",
     "output_type": "stream",
     "text": [
      "Game 1\n",
      "Player 1 wins!\n",
      "Final board state:\n",
      "[0, 0, 0, 2, 0, 0, 0]\n",
      "[2, 0, 0, 1, 0, 0, 0]\n",
      "[2, 1, 2, 1, 1, 0, 0]\n",
      "[1, 1, 2, 2, 1, 1, 2]\n",
      "[2, 2, 1, 1, 2, 1, 1]\n",
      "[1, 2, 1, 2, 2, 1, 2]\n",
      "\n",
      "Game 2\n",
      "Player 1 wins!\n",
      "Final board state:\n",
      "[0, 0, 0, 1, 0, 0, 0]\n",
      "[0, 1, 0, 1, 0, 0, 0]\n",
      "[0, 2, 0, 1, 0, 0, 0]\n",
      "[0, 1, 0, 1, 0, 1, 2]\n",
      "[0, 2, 0, 2, 0, 2, 2]\n",
      "[0, 2, 2, 1, 2, 1, 1]\n",
      "\n",
      "Game 3\n",
      "Player 1 wins!\n",
      "Final board state:\n",
      "[0, 2, 0, 0, 0, 2, 0]\n",
      "[1, 1, 0, 0, 0, 1, 0]\n",
      "[1, 1, 1, 0, 0, 2, 0]\n",
      "[1, 2, 2, 0, 1, 2, 2]\n",
      "[1, 1, 1, 2, 2, 2, 1]\n",
      "[2, 2, 1, 2, 1, 1, 2]\n",
      "\n",
      "Game 4\n",
      "Player 1 wins!\n",
      "Final board state:\n",
      "[0, 0, 0, 0, 0, 2, 0]\n",
      "[0, 0, 0, 0, 0, 2, 0]\n",
      "[1, 0, 0, 0, 0, 1, 0]\n",
      "[1, 1, 0, 2, 0, 2, 0]\n",
      "[2, 2, 1, 2, 2, 1, 0]\n",
      "[1, 1, 2, 1, 1, 2, 1]\n",
      "\n",
      "Game 5\n",
      "Player 2 wins!\n",
      "Final board state:\n",
      "[0, 0, 0, 0, 0, 0, 0]\n",
      "[0, 0, 0, 1, 0, 0, 0]\n",
      "[0, 0, 0, 1, 0, 2, 0]\n",
      "[2, 0, 2, 1, 0, 2, 0]\n",
      "[1, 0, 2, 2, 2, 2, 1]\n",
      "[1, 2, 1, 1, 2, 1, 1]\n",
      "\n"
     ]
    }
   ],
   "source": [
    "import random\n",
    "\n",
    "def check_winner(board):\n",
    "    rows = len(board)\n",
    "    cols = len(board[0])\n",
    "\n",
    "    # Check horizontal\n",
    "    for row in range(rows):\n",
    "        for col in range(cols - 3):\n",
    "            if board[row][col] == board[row][col + 1] == board[row][col + 2] == board[row][col + 3] != 0:\n",
    "                return board[row][col]\n",
    "\n",
    "    # Check vertical\n",
    "    for row in range(rows - 3):\n",
    "        for col in range(cols):\n",
    "            if board[row][col] == board[row + 1][col] == board[row + 2][col] == board[row + 3][col] != 0:\n",
    "                return board[row][col]\n",
    "\n",
    "    # Check diagonal (top-left to bottom-right)\n",
    "    for row in range(rows - 3):\n",
    "        for col in range(cols - 3):\n",
    "            if board[row][col] == board[row + 1][col + 1] == board[row + 2][col + 2] == board[row + 3][col + 3] != 0:\n",
    "                return board[row][col]\n",
    "\n",
    "    # Check diagonal (top-right to bottom-left)\n",
    "    for row in range(rows - 3):\n",
    "        for col in range(3, cols):\n",
    "            if board[row][col] == board[row + 1][col - 1] == board[row + 2][col - 2] == board[row + 3][col - 3] != 0:\n",
    "                return board[row][col]\n",
    "\n",
    "    return 0  # No winner found\n",
    "\n",
    "\n",
    "def create_random_move(board, player):\n",
    "    cols = len(board[0])\n",
    "\n",
    "    valid_moves = []\n",
    "    for col in range(cols):\n",
    "        if board[0][col] == 0:\n",
    "            valid_moves.append(col)\n",
    "\n",
    "    if len(valid_moves) == 0:\n",
    "        return None  # No valid moves\n",
    "\n",
    "    random_col = random.choice(valid_moves)\n",
    "    for row in range(len(board) - 1, -1, -1):\n",
    "        if board[row][random_col] == 0:\n",
    "            board[row][random_col] = player\n",
    "            return board\n",
    "\n",
    "    return None  # Shouldn't reach here\n",
    "\n",
    "\n",
    "def play_game():\n",
    "    board = [[0] * 7 for _ in range(6)]\n",
    "    players = [1, 2]\n",
    "    current_player = random.choice(players)\n",
    "\n",
    "    while True:\n",
    "        move = create_random_move(board, current_player)\n",
    "        if move is None:\n",
    "            print(\"Game Over. It's a tie!\")\n",
    "            break\n",
    "\n",
    "        winner = check_winner(board)\n",
    "        if winner != 0:\n",
    "            print(\"Player\", winner, \"wins!\")\n",
    "            break\n",
    "\n",
    "        current_player = players[0] if current_player == players[1] else players[1]\n",
    "\n",
    "    print(\"Final board state:\")\n",
    "    for row in board:\n",
    "        print(row)\n",
    "\n",
    "\n",
    "def play_multiple_games(num_games):\n",
    "    for i in range(num_games):\n",
    "        print(\"Game\", i + 1)\n",
    "        play_game()\n",
    "        print()\n",
    "\n",
    "\n",
    "play_multiple_games(5)\n"
   ]
  },
  {
   "cell_type": "markdown",
   "metadata": {},
   "source": [
    "## Imports"
   ]
  },
  {
   "cell_type": "code",
   "execution_count": 1,
   "metadata": {},
   "outputs": [],
   "source": [
    "import random\n",
    "import pprint"
   ]
  },
  {
   "cell_type": "markdown",
   "metadata": {},
   "source": [
    "## Helper functions"
   ]
  },
  {
   "cell_type": "code",
   "execution_count": 2,
   "metadata": {
    "pycharm": {
     "name": "#%%\n"
    }
   },
   "outputs": [],
   "source": [
    "def empty_board(rows=6, columns=7):\n",
    "    \"\"\"create an empty list of lists for storing boards\"\"\"\n",
    "    board = [[None for i in range(columns)] for j in range(rows)]\n",
    "    return board"
   ]
  },
  {
   "cell_type": "code",
   "execution_count": 3,
   "metadata": {
    "pycharm": {
     "name": "#%%\n"
    }
   },
   "outputs": [],
   "source": [
    "def print_board(board):\n",
    "    \"\"\"pretty print the board\"\"\"\n",
    "    pp = pprint.PrettyPrinter(indent=4)\n",
    "    pp.pprint(board)"
   ]
  },
  {
   "cell_type": "markdown",
   "metadata": {},
   "source": [
    "## Predefined board setups\n",
    "These board setups should be evaluated whether there is a win condition met for any player."
   ]
  },
  {
   "cell_type": "code",
   "execution_count": 5,
   "metadata": {
    "pycharm": {
     "name": "#%%\n"
    }
   },
   "outputs": [],
   "source": [
    "board_a = [   \n",
    "    [None, 0, None, None, None, None, None],\n",
    "    [None, 1, None, None, None, None, None],\n",
    "    [None, 1, None, None, None, None, None],\n",
    "    [1, 1, None, None, None, None, None],\n",
    "    [1, 0, 1, None, None, None, None],\n",
    "    [0, 0, 1, 0, 0, 0, 0]\n",
    "]"
   ]
  },
  {
   "cell_type": "code",
   "execution_count": 6,
   "metadata": {
    "pycharm": {
     "name": "#%%\n"
    }
   },
   "outputs": [],
   "source": [
    "board_b = [\n",
    "    [None, None, None, None, None, None, None],\n",
    "    [None, None, None, None, None, None, None],\n",
    "    [1, None, None, None, 1, 1, None],\n",
    "    [0, None, None, 1, 0, 0, None],\n",
    "    [0, 0, 1, 0, 1, 0, None],\n",
    "    [0, 1, 0, 1, 1, 1, 0]\n",
    "]"
   ]
  },
  {
   "cell_type": "code",
   "execution_count": 7,
   "metadata": {},
   "outputs": [],
   "source": [
    "board_c =[\n",
    "    [2, 1, 1, 2, 2, 1, 1],\n",
    "    [1, 2, 1, 1, 1, 2, 2],\n",
    "    [2, 1, 2, 2, 2, 1, 1],\n",
    "    [1, 2, 2, 1, 2, 2, 2],\n",
    "    [1, 1, 1, 2, 1, 1, 1],\n",
    "    [2, 2, 1, 2, 1, 2, 2]\n",
    "]"
   ]
  },
  {
   "cell_type": "markdown",
   "metadata": {},
   "source": [
    "## Functions that need to be written"
   ]
  },
  {
   "cell_type": "code",
   "execution_count": 8,
   "metadata": {
    "pycharm": {
     "name": "#%%\n"
    }
   },
   "outputs": [],
   "source": [
    "def check_win(board):\n",
    "    \"\"\"\"\n",
    "    check win condition for each position.\n",
    "    4 connected pieces are called a win.\n",
    "    possible wins could be horizontal, vertical and 2x diagonal.\n",
    "    \n",
    "    returns (bool result, int player)\n",
    "    \"\"\"\n",
    "    # ...\n",
    "    return (False, None)\n",
    "\n",
    "def check_win_pos(board, row, col):\n",
    "    \"\"\"check win condition for a position\"\"\"\n",
    "    item = board[row][col]\n",
    "    rows = len(board)\n",
    "    cols = len(board[0])\n",
    "    # ...\n",
    "    return False\n",
    "    "
   ]
  },
  {
   "cell_type": "code",
   "execution_count": 9,
   "metadata": {
    "pycharm": {
     "name": "#%%\n"
    }
   },
   "outputs": [],
   "source": [
    "def random_move(board, player=0):\n",
    "    \"\"\"creates a valid random move for given int player and returns a new board\"\"\"\n",
    "    # ...\n",
    "    return new_board"
   ]
  },
  {
   "cell_type": "code",
   "execution_count": 10,
   "metadata": {},
   "outputs": [],
   "source": [
    "def random_game():\n",
    "    board = empty_board()\n",
    "    player = 1\n",
    "    while True:\n",
    "        player = 0 if player == True else 1\n",
    "        board = random_move(board, player)\n",
    "        if check_win(board)[0]:\n",
    "            print_board(board)\n",
    "            break\n",
    "        else:\n",
    "            if not move_possible(board):\n",
    "                print_board(board)\n",
    "                break\n",
    "            continue\n"
   ]
  },
  {
   "cell_type": "markdown",
   "metadata": {},
   "source": [
    "## Output of various functions as reference"
   ]
  },
  {
   "cell_type": "code",
   "execution_count": 11,
   "metadata": {},
   "outputs": [
    {
     "name": "stdout",
     "output_type": "stream",
     "text": [
      "[   [None, None, None, None, None, None, None],\n",
      "    [None, None, None, None, None, None, None],\n",
      "    [None, None, None, None, None, None, None],\n",
      "    [None, None, None, None, None, None, None],\n",
      "    [None, None, None, None, None, None, None],\n",
      "    [None, None, None, None, None, None, None]]\n"
     ]
    }
   ],
   "source": [
    "print_board(empty_board())"
   ]
  },
  {
   "cell_type": "code",
   "execution_count": 12,
   "metadata": {
    "scrolled": true
   },
   "outputs": [
    {
     "name": "stdout",
     "output_type": "stream",
     "text": [
      "(True, 0)\n",
      "(True, 1)\n",
      "(False, None)\n",
      "(False, None)\n"
     ]
    }
   ],
   "source": [
    "print(check_win(board_a))\n",
    "print(check_win(board_b))\n",
    "print(check_win(board_c))\n",
    "print(check_win(empty_board()))"
   ]
  },
  {
   "cell_type": "code",
   "execution_count": 13,
   "metadata": {},
   "outputs": [
    {
     "name": "stdout",
     "output_type": "stream",
     "text": [
      "True\n",
      "True\n",
      "False\n"
     ]
    }
   ],
   "source": [
    "print(move_possible(board_a))\n",
    "print(move_possible(board_b))\n",
    "print(move_possible(board_c))"
   ]
  },
  {
   "cell_type": "code",
   "execution_count": 14,
   "metadata": {},
   "outputs": [
    {
     "name": "stdout",
     "output_type": "stream",
     "text": [
      "Game 0:\n",
      "[   [None, 0, None, 0, None, 1, None],\n",
      "    [None, 1, 1, 0, None, 0, None],\n",
      "    [0, 1, 1, 1, 0, 0, None],\n",
      "    [1, 0, 1, 0, 1, 1, None],\n",
      "    [0, 1, 1, 0, 1, 0, None],\n",
      "    [0, 0, 0, 1, 1, 1, 0]]\n",
      "Game 1:\n",
      "[   [None, None, None, None, None, None, None],\n",
      "    [None, None, None, None, None, None, None],\n",
      "    [None, None, None, None, 1, 0, None],\n",
      "    [None, None, None, None, 0, 0, None],\n",
      "    [None, 1, None, 0, 1, 0, None],\n",
      "    [0, 0, 1, 1, 1, 0, 1]]\n",
      "Game 2:\n",
      "[   [1, None, None, None, None, None, None],\n",
      "    [0, None, 1, None, None, None, None],\n",
      "    [1, None, 1, None, None, None, None],\n",
      "    [0, 1, 0, 1, None, 0, None],\n",
      "    [1, 0, 1, 0, 0, 1, 0],\n",
      "    [0, 0, 0, 1, 0, 1, 1]]\n",
      "Game 3:\n",
      "[   [None, None, None, None, None, None, None],\n",
      "    [None, None, None, None, None, 0, None],\n",
      "    [1, None, None, None, None, 0, None],\n",
      "    [0, 1, None, 1, None, 1, None],\n",
      "    [0, 1, 1, 0, None, 1, 0],\n",
      "    [0, 1, 1, 1, 0, 0, 0]]\n",
      "Game 4:\n",
      "[   [None, None, None, None, None, None, None],\n",
      "    [None, 0, None, 0, None, None, None],\n",
      "    [None, 1, 1, 1, None, None, 0],\n",
      "    [0, 1, 0, 1, None, None, 1],\n",
      "    [0, 0, 0, 1, 1, None, 0],\n",
      "    [1, 0, 0, 0, 1, 1, 1]]\n"
     ]
    }
   ],
   "source": [
    "for n in range(5):\n",
    "    print(f\"Game {n}:\")\n",
    "    random_game()\n"
   ]
  },
  {
   "cell_type": "markdown",
   "metadata": {},
   "source": [
    "## Your solution"
   ]
  },
  {
   "cell_type": "code",
   "execution_count": null,
   "metadata": {},
   "outputs": [],
   "source": []
  }
 ],
 "metadata": {
  "kernelspec": {
   "display_name": "Python 3 (ipykernel)",
   "language": "python",
   "name": "python3"
  },
  "language_info": {
   "codemirror_mode": {
    "name": "ipython",
    "version": 3
   },
   "file_extension": ".py",
   "mimetype": "text/x-python",
   "name": "python",
   "nbconvert_exporter": "python",
   "pygments_lexer": "ipython3",
   "version": "3.9.7"
  }
 },
 "nbformat": 4,
 "nbformat_minor": 1
}
